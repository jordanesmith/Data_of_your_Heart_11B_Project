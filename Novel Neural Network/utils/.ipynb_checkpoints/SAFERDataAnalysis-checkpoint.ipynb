{
 "cells": [
  {
   "cell_type": "code",
   "execution_count": 1,
   "id": "f88bccb0-5d37-4640-a8bf-69f954f7e40e",
   "metadata": {},
   "outputs": [],
   "source": [
    "import pandas as pd\n",
    "from tqdm import tqdm\n",
    "import matplotlib.pyplot as plt\n",
    "import numpy as np\n",
    "\n",
    "path_to_all_data = \"F:\\\\DATA\\\\JSmith_SAFER_20220310\\\\raw_data\\\\\""
   ]
  },
  {
   "cell_type": "code",
   "execution_count": 2,
   "id": "73842835-6e05-493e-9c89-05160b3053a2",
   "metadata": {},
   "outputs": [
    {
     "name": "stderr",
     "output_type": "stream",
     "text": [
      "C:\\Users\\Jordan\\Anaconda3\\envs\\tf-NNN-build\\lib\\site-packages\\IPython\\core\\interactiveshell.py:3457: DtypeWarning: Columns (15,17) have mixed types.Specify dtype option on import or set low_memory=False.\n",
      "  exec(code_obj, self.user_global_ns, self.user_ns)\n"
     ]
    }
   ],
   "source": [
    "feas1_annotations = pd.read_csv(path_to_all_data+\"Feas1\\\\rec_data_anon.csv\")\n",
    "feas2_annotations = pd.read_csv(path_to_all_data+\"Feas2\\\\rec_data_anon.csv\")"
   ]
  },
  {
   "cell_type": "code",
   "execution_count": 3,
   "id": "6b403b4f-1fe4-4bc4-8376-e237e96c90f0",
   "metadata": {},
   "outputs": [
    {
     "data": {
      "text/html": [
       "<div>\n",
       "<style scoped>\n",
       "    .dataframe tbody tr th:only-of-type {\n",
       "        vertical-align: middle;\n",
       "    }\n",
       "\n",
       "    .dataframe tbody tr th {\n",
       "        vertical-align: top;\n",
       "    }\n",
       "\n",
       "    .dataframe thead th {\n",
       "        text-align: right;\n",
       "    }\n",
       "</style>\n",
       "<table border=\"1\" class=\"dataframe\">\n",
       "  <thead>\n",
       "    <tr style=\"text-align: right;\">\n",
       "      <th></th>\n",
       "      <th>txt</th>\n",
       "      <th>num</th>\n",
       "    </tr>\n",
       "  </thead>\n",
       "  <tbody>\n",
       "    <tr>\n",
       "      <th>0</th>\n",
       "      <td>2nd or 3rd degree heart block</td>\n",
       "      <td>1</td>\n",
       "    </tr>\n",
       "    <tr>\n",
       "      <th>1</th>\n",
       "      <td>AF &gt;= 30 seconds</td>\n",
       "      <td>2</td>\n",
       "    </tr>\n",
       "    <tr>\n",
       "      <th>2</th>\n",
       "      <td>Cannot exclude AF&gt;=30 seconds, VT or 2/3 degre...</td>\n",
       "      <td>3</td>\n",
       "    </tr>\n",
       "    <tr>\n",
       "      <th>3</th>\n",
       "      <td>No AF &gt;= 30 secs, VT or 2/3 degree heart block...</td>\n",
       "      <td>4</td>\n",
       "    </tr>\n",
       "    <tr>\n",
       "      <th>4</th>\n",
       "      <td>Screening Failure</td>\n",
       "      <td>5</td>\n",
       "    </tr>\n",
       "    <tr>\n",
       "      <th>5</th>\n",
       "      <td>Undecided</td>\n",
       "      <td>6</td>\n",
       "    </tr>\n",
       "    <tr>\n",
       "      <th>6</th>\n",
       "      <td>Ventricular tachycardia</td>\n",
       "      <td>7</td>\n",
       "    </tr>\n",
       "    <tr>\n",
       "      <th>7</th>\n",
       "      <td>Disagreement between reviewers</td>\n",
       "      <td>-1</td>\n",
       "    </tr>\n",
       "  </tbody>\n",
       "</table>\n",
       "</div>"
      ],
      "text/plain": [
       "                                                 txt  num\n",
       "0                      2nd or 3rd degree heart block    1\n",
       "1                                   AF >= 30 seconds    2\n",
       "2  Cannot exclude AF>=30 seconds, VT or 2/3 degre...    3\n",
       "3  No AF >= 30 secs, VT or 2/3 degree heart block...    4\n",
       "4                                  Screening Failure    5\n",
       "5                                          Undecided    6\n",
       "6                            Ventricular tachycardia    7\n",
       "7                     Disagreement between reviewers   -1"
      ]
     },
     "execution_count": 3,
     "metadata": {},
     "output_type": "execute_result"
    }
   ],
   "source": [
    "pd.read_csv(path_to_all_data+\"Feas1\\\\rec_data_anon_diag_key.csv\")#"
   ]
  },
  {
   "cell_type": "code",
   "execution_count": 4,
   "id": "1fb5e91c-63d5-4e53-ac73-82fece053bdd",
   "metadata": {},
   "outputs": [
    {
     "data": {
      "text/html": [
       "<div>\n",
       "<style scoped>\n",
       "    .dataframe tbody tr th:only-of-type {\n",
       "        vertical-align: middle;\n",
       "    }\n",
       "\n",
       "    .dataframe tbody tr th {\n",
       "        vertical-align: top;\n",
       "    }\n",
       "\n",
       "    .dataframe thead th {\n",
       "        text-align: right;\n",
       "    }\n",
       "</style>\n",
       "<table border=\"1\" class=\"dataframe\">\n",
       "  <thead>\n",
       "    <tr style=\"text-align: right;\">\n",
       "      <th></th>\n",
       "      <th>txt</th>\n",
       "      <th>num</th>\n",
       "    </tr>\n",
       "  </thead>\n",
       "  <tbody>\n",
       "    <tr>\n",
       "      <th>0</th>\n",
       "      <td>AF &gt;= 30 seconds</td>\n",
       "      <td>1</td>\n",
       "    </tr>\n",
       "    <tr>\n",
       "      <th>1</th>\n",
       "      <td>Cannot exclude AF&gt;=30 seconds, VT or 2/3 degre...</td>\n",
       "      <td>2</td>\n",
       "    </tr>\n",
       "    <tr>\n",
       "      <th>2</th>\n",
       "      <td>No AF &gt;= 30 secs, VT or 2/3 degree heart block...</td>\n",
       "      <td>3</td>\n",
       "    </tr>\n",
       "    <tr>\n",
       "      <th>3</th>\n",
       "      <td>Poor quality</td>\n",
       "      <td>4</td>\n",
       "    </tr>\n",
       "    <tr>\n",
       "      <th>4</th>\n",
       "      <td>Screening Failure</td>\n",
       "      <td>5</td>\n",
       "    </tr>\n",
       "    <tr>\n",
       "      <th>5</th>\n",
       "      <td>Undecided</td>\n",
       "      <td>6</td>\n",
       "    </tr>\n",
       "    <tr>\n",
       "      <th>6</th>\n",
       "      <td>Disagreement between reviewers</td>\n",
       "      <td>-1</td>\n",
       "    </tr>\n",
       "  </tbody>\n",
       "</table>\n",
       "</div>"
      ],
      "text/plain": [
       "                                                 txt  num\n",
       "0                                   AF >= 30 seconds    1\n",
       "1  Cannot exclude AF>=30 seconds, VT or 2/3 degre...    2\n",
       "2  No AF >= 30 secs, VT or 2/3 degree heart block...    3\n",
       "3                                       Poor quality    4\n",
       "4                                  Screening Failure    5\n",
       "5                                          Undecided    6\n",
       "6                     Disagreement between reviewers   -1"
      ]
     },
     "execution_count": 4,
     "metadata": {},
     "output_type": "execute_result"
    }
   ],
   "source": [
    "pd.read_csv(path_to_all_data+\"Feas2\\\\rec_data_anon_diag_key.csv\")"
   ]
  },
  {
   "cell_type": "code",
   "execution_count": 5,
   "id": "af5a6d77-5834-46fb-922d-1d1ec7ca83bf",
   "metadata": {},
   "outputs": [],
   "source": [
    "feas1_keys = {1: \"O\", 2: \"A\", 3: \"O\", 4: \"N\"}\n",
    "feas2_keys = {1: \"A\", 2: \"O\", 3: \"N\" }"
   ]
  },
  {
   "cell_type": "markdown",
   "id": "cc38a36f-bc38-489b-be30-29f0262c83ed",
   "metadata": {},
   "source": [
    "## Find list of all samples which were reviewed, and those which were not"
   ]
  },
  {
   "cell_type": "code",
   "execution_count": 6,
   "id": "322f6270-8b5a-4c12-ad73-c420de488d69",
   "metadata": {},
   "outputs": [],
   "source": [
    "def produce_list_of_reviewed_and_unreviewed_samples(annotations_df, no_diagnosis_integer_code):\n",
    "    reviewed_recordings_list = []\n",
    "    unreviewed_recordings_list = []\n",
    "    all_ids = []\n",
    "    key_all_rec_for_each_pt = {}\n",
    "    \n",
    "    for recording in tqdm(annotations_df.iterrows()):\n",
    "        pt_id = recording[1].ptID\n",
    "        \n",
    "        if pt_id not in all_ids: # if this is the first rec seen from this patient so far\n",
    "            all_ids.append(pt_id)\n",
    "            key_all_rec_for_each_pt[pt_id] = {\"reviewed\": [], \"unreviewed\": []}\n",
    "        \n",
    "        \n",
    "        team_diagnosis = [recording[1].measDiagRev1, recording[1].measDiagRev2]\n",
    "\n",
    "        if team_diagnosis != [no_diagnosis_integer_code, no_diagnosis_integer_code]: # if diagnosis made therefore reviewed\n",
    "            reviewed_recordings_list.append(recording)        \n",
    "    \n",
    "            all_ids_found_for_pt_so_far = key_all_rec_for_each_pt[pt_id][\"reviewed\"]\n",
    "            all_ids_found_for_pt_so_far.append(recording[0])\n",
    "            key_all_rec_for_each_pt[pt_id][\"reviewed\"] = all_ids_found_for_pt_so_far\n",
    "     \n",
    "        else: # if no diagnosis made therefore unreviewed\n",
    "            unreviewed_recordings_list.append(recording)\n",
    "            \n",
    "            all_ids_found_for_pt_so_far = key_all_rec_for_each_pt[pt_id][\"unreviewed\"]\n",
    "            all_ids_found_for_pt_so_far.append(recording[0])\n",
    "            key_all_rec_for_each_pt[pt_id][\"unreviewed\"] = all_ids_found_for_pt_so_far\n",
    "            \n",
    "        \n",
    "    return reviewed_recordings_list, unreviewed_recordings_list, all_ids, key_all_rec_for_each_pt"
   ]
  },
  {
   "cell_type": "code",
   "execution_count": 7,
   "id": "37dafaad-2542-4458-9f88-2e2c75018b53",
   "metadata": {},
   "outputs": [
    {
     "name": "stderr",
     "output_type": "stream",
     "text": [
      "162431it [00:13, 12179.39it/s]\n",
      "23253it [00:01, 15024.42it/s]\n"
     ]
    }
   ],
   "source": [
    "feas1_reviewed_rec_list, feas1_unreviewed_rec_list, feas1_id_list, feas1_key_all_rec_for_each_pt = produce_list_of_reviewed_and_unreviewed_samples(feas1_annotations, 6)\n",
    "feas2_reviewed_rec_list, feas2_unreviewed_rec_list, feas2_id_list, feas2_key_all_rec_for_each_pt = produce_list_of_reviewed_and_unreviewed_samples(feas2_annotations, 6)"
   ]
  },
  {
   "cell_type": "markdown",
   "id": "36ad7b61-3557-4617-99c6-7d03db844fdb",
   "metadata": {},
   "source": [
    "### Save the meas_id of those which have been manually reviewed"
   ]
  },
  {
   "cell_type": "code",
   "execution_count": 15,
   "id": "730b9019-6797-45be-9e4f-b1567f5f2e5c",
   "metadata": {},
   "outputs": [],
   "source": [
    "meas_id_list_feas1 = []\n",
    "for i in range(len(feas1_reviewed_rec_list)):\n",
    "    meas_id = feas1_reviewed_rec_list[i][1].measID\n",
    "    meas_id_list_feas1.append(meas_id)\n",
    "\n",
    "meas_id_list_feas2 = []\n",
    "for i in range(len(feas2_reviewed_rec_list)):\n",
    "    meas_id = feas2_reviewed_rec_list[i][1].measID\n",
    "    meas_id_list_feas2.append(meas_id)\n",
    "    \n",
    "    \n",
    "import pickle\n",
    "import os\n",
    "path_to_metadata_files = \"F:\\\\DATA\\\\JSmith_SAFER_20220310\\\\metadata\"\n",
    "\n",
    "with open(os.path.join(path_to_metadata_files, \"feas1\"), \"wb\") as file:   \n",
    "    pickle.dump(meas_id_list_feas1, file)\n",
    "\n",
    "with open(os.path.join(path_to_metadata_files, \"feas2\"), \"wb\") as file:   \n",
    "    pickle.dump(meas_id_list_feas2, file)    "
   ]
  },
  {
   "cell_type": "markdown",
   "id": "90f21fb3-5cae-4e44-bebd-f9f92c02d530",
   "metadata": {},
   "source": [
    "### Find proportion of each participants recordings which were reviewed"
   ]
  },
  {
   "cell_type": "code",
   "execution_count": 8,
   "id": "d5ceb2d6-375d-4f37-89f5-557a8fbae5fb",
   "metadata": {},
   "outputs": [
    {
     "name": "stderr",
     "output_type": "stream",
     "text": [
      "100%|██████████████████████████████████████████████████████████| 2132/2132 [00:00<00:00, 411971.63it/s]\n"
     ]
    },
    {
     "data": {
      "text/plain": [
       "Text(0.5, 1.0, 'Feas1')"
      ]
     },
     "execution_count": 8,
     "metadata": {},
     "output_type": "execute_result"
    },
    {
     "data": {
      "image/png": "[encoded data removed]",
      "text/plain": [
       "<Figure size 432x288 with 1 Axes>"
      ]
     },
     "metadata": {
      "needs_background": "light"
     },
     "output_type": "display_data"
    }
   ],
   "source": [
    "# Feas1\n",
    "proportions = []\n",
    "for pt_id in tqdm(feas1_id_list):\n",
    "    list_all_reviewed_rec_indices = feas1_key_all_rec_for_each_pt[pt_id][\"reviewed\"]\n",
    "    list_all_unreviewed_rec_indices = feas1_key_all_rec_for_each_pt[pt_id][\"unreviewed\"]\n",
    "    \n",
    "    if len(list_all_reviewed_rec_indices) > 0:    \n",
    "        no_all_rec_for_pt = len(list_all_reviewed_rec_indices) + len(list_all_unreviewed_rec_indices)\n",
    "        proportions.append([pt_id, len(list_all_reviewed_rec_indices) / no_all_rec_for_pt])\n",
    "\n",
    "mean_value = np.mean(np.array(proportions).T[1])\n",
    "plt.axhline(y=mean_value, color='r', linestyle='-', label=\"mean\")        \n",
    "plt.scatter(np.arange(len(proportions)),np.array(proportions).T[1])\n",
    "plt.ylabel(\"Proportion of recordings reviewed\")\n",
    "plt.xlabel(\"Participant\")\n",
    "plt.title(\"Feas1\")"
   ]
  },
  {
   "cell_type": "code",
   "execution_count": 9,
   "id": "0a763234-8f9b-401d-b607-fa82dbaf7dd8",
   "metadata": {
    "tags": []
   },
   "outputs": [
    {
     "name": "stderr",
     "output_type": "stream",
     "text": [
      "100%|████████████████████████████████████████████████████████████| 287/287 [00:00<00:00, 287226.26it/s]\n"
     ]
    },
    {
     "data": {
      "text/plain": [
       "Text(0.5, 1.0, 'Feas2')"
      ]
     },
     "execution_count": 9,
     "metadata": {},
     "output_type": "execute_result"
    },
    {
     "data": {
      "image/png": "[encoded data removed]",
      "text/plain": [
       "<Figure size 432x288 with 1 Axes>"
      ]
     },
     "metadata": {
      "needs_background": "light"
     },
     "output_type": "display_data"
    }
   ],
   "source": [
    "# Feas2\n",
    "proportions = []\n",
    "for pt_id in tqdm(feas2_id_list):\n",
    "    list_all_reviewed_rec_indices = feas2_key_all_rec_for_each_pt[pt_id][\"reviewed\"]\n",
    "    list_all_unreviewed_rec_indices = feas2_key_all_rec_for_each_pt[pt_id][\"unreviewed\"]\n",
    "    \n",
    "    if len(list_all_reviewed_rec_indices) > 0:    \n",
    "        no_all_rec_for_pt = len(list_all_reviewed_rec_indices) + len(list_all_unreviewed_rec_indices)\n",
    "        proportions.append([pt_id, len(list_all_reviewed_rec_indices) / no_all_rec_for_pt])\n",
    "\n",
    "mean_value = np.mean(np.array(proportions).T[1])\n",
    "plt.axhline(y=mean_value, color='r', linestyle='-', label=\"mean\")  \n",
    "plt.scatter(np.arange(len(proportions)),np.array(proportions).T[1])\n",
    "plt.ylabel(\"Proportion of recordings reviewed\")\n",
    "plt.xlabel(\"Participant\")\n",
    "plt.title(\"Feas2\")"
   ]
  },
  {
   "cell_type": "raw",
   "id": "de812896-516a-4112-a443-e931cc66400b",
   "metadata": {},
   "source": []
  }
 ],
 "metadata": {
  "kernelspec": {
   "display_name": "Python 3 (ipykernel)",
   "language": "python",
   "name": "python3"
  },
  "language_info": {
   "codemirror_mode": {
    "name": "ipython",
    "version": 3
   },
   "file_extension": ".py",
   "mimetype": "text/x-python",
   "name": "python",
   "nbconvert_exporter": "python",
   "pygments_lexer": "ipython3",
   "version": "3.7.11"
  }
 },
 "nbformat": 4,
 "nbformat_minor": 5
}

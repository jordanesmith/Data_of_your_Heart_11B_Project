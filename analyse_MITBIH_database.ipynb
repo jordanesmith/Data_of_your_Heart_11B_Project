{
 "cells": [
  {
   "cell_type": "code",
   "execution_count": 1,
   "id": "4ba20899-64f5-43d7-b5f7-bc006f635151",
   "metadata": {},
   "outputs": [],
   "source": [
    "import pandas as pd\n",
    "import numpy as np\n",
    "import matplotlib.pyplot as plt\n",
    "import wfdb\n",
    "import os\n",
    "import neurokit2 as nk #TODO look into this algorithm\n",
    "from tqdm import tqdm\n"
   ]
  },
  {
   "cell_type": "code",
   "execution_count": 2,
   "id": "b973e7e8-1fb6-43c9-ae2b-5b4df357a516",
   "metadata": {
    "tags": []
   },
   "outputs": [],
   "source": [
    "# path_to_dataset = \"2_data\\physionet_datasets\\mitbih\\mit-bih-arrhythmia-database-1.0.0\"\n",
    "# sample_of_interest = \"221\" # 221, 210 for AF | 100, 101, 103, 105, 108, 109, 111, 112, 113, 114, 115, 116, 117, 118, 121, 122, 123 for Normal \n",
    "# path_to_sample_1 = os.path.join(path_to_dataset, sample_of_interest)\n",
    "\n",
    "path_to_dataset = \"2_data\\physionet_datasets\\mitbih\\\\af_dataset\"\n",
    "\n",
    "samples = ['04048', '04746', '07162', '07859', '06995', '08405', \n",
    "            '04126', '05261', '05121', '08215', '08434', '04908', \n",
    "            '06426', '07879', '08455', '04015', '06453', '05091', \n",
    "            '08378', '08219', '04043', '04936', '07910']\n",
    "\n",
    "# for sample in samples:\n",
    "    \n",
    "#     path_to_sample = os.path.join(dataset_path, sample)\n",
    "\n",
    "#     print(\"Reading record...\")\n",
    "#     record = wfdb.rdrecord(path_to_sample)\n",
    "#     print(\"Reading annotations...\")\n",
    "#     ann = wfdb.rdann(path_to_sample, 'atr')\n",
    "    \n",
    "#     print(ann.sample, ann.symbol)\n",
    "# print(\"plotting...\")\n",
    "# wfdb.plot_wfdb(record=record, annotation=ann, plot_sym=True,\n",
    "#                time_units='seconds', title=f'MIT-BIH Record {sample_of_interest}',\n",
    "#                figsize=(10,4), ecg_grids='all')\n"
   ]
  },
  {
   "cell_type": "code",
   "execution_count": 3,
   "id": "29c61c6d-c29f-41cc-b5f3-f6f73f5ff4e8",
   "metadata": {},
   "outputs": [],
   "source": [
    "# entire_ecg_signal = record.p_signal.T[0]\n",
    "# plt.plot(entire_ecg_signal)\n",
    "# plt.xlim(0,250*5)\n",
    "# plt.ylim(-0.5,2)"
   ]
  },
  {
   "cell_type": "code",
   "execution_count": 4,
   "id": "9aadbe5d-4c35-4bd2-af54-59aa14b4ce54",
   "metadata": {
    "tags": []
   },
   "outputs": [],
   "source": [
    "def split_ecgs_after_given_number_of_R_peaks(ecg_signal, no_R_peaks_per_split, sample_name):\n",
    "    \n",
    "    \n",
    "    # plt.plot(record.p_signal.T[1])\n",
    "    _, rpeaks = nk.ecg_peaks(ecg_signal, sampling_rate=300)\n",
    "    R_peaks = rpeaks['ECG_R_Peaks']\n",
    "    # plot = nk.events_plot(rpeaks['ECG_R_Peaks'], ecg_signal)\n",
    "    \n",
    "    indexed_peaks = dict(enumerate(R_peaks))\n",
    "    \n",
    "    no_splits = max(indexed_peaks.keys()) // no_R_peaks_per_split + 1\n",
    "    split_indices_of_ecg = [indexed_peaks[i*no_R_peaks_per_split] for i in range(no_splits)]\n",
    "    length_of_each_ecg_split_section = (np.pad(np.array(split_indices_of_ecg),1)[1:] - np.pad(np.array(split_indices_of_ecg),1)[:-1])[1:-1]\n",
    "    \n",
    "    assert np.std(length_of_each_ecg_split_section) / np.mean(length_of_each_ecg_split_section) <= 0.3, f\"check for anomolous section lengths from sample {sample_name}: \\n {length_of_each_ecg_split_section} \"\n",
    "    \n",
    "    ecg_split_into_sections = [ecg_signal[split_indices_of_ecg[i]:split_indices_of_ecg[i+1]] for i in range(len(split_indices_of_ecg)-1)]\n",
    "        \n",
    "    return ecg_split_into_sections, split_indices_of_ecg\n",
    "\n",
    "# ecg_split_into_sections, split_indices_of_ecg = split_ecgs_after_given_number_of_R_peaks(entire_ecg_signal, 32, \"\")\n",
    "# split_indices_of_ecg"
   ]
  },
  {
   "cell_type": "code",
   "execution_count": 5,
   "id": "23b9b64f-8763-400d-8bd3-bab4ba18c10f",
   "metadata": {},
   "outputs": [],
   "source": [
    "def is_annotation_of_change_of_heartrate_present_in_interval(interval: tuple, ann):\n",
    "    for i_, index_in_ecg in enumerate(ann.sample):\n",
    "        if index_in_ecg >= interval[0] and index_in_ecg <= interval[1]:\n",
    "            if ann.symbol[i_] == \"+\":\n",
    "                return True\n",
    "        \n",
    "    return False"
   ]
  },
  {
   "cell_type": "code",
   "execution_count": 7,
   "id": "759da3f3-6554-4b49-bc70-b77862bc3fbc",
   "metadata": {},
   "outputs": [
    {
     "name": "stdout",
     "output_type": "stream",
     "text": [
      "files to be split: ['05091', '05261', '04043', '05121', '04936', '06426', '04746', '06995', '07162', '08378', '04048', '07910', '06453', '08455', '07879', '08434', '04015', '04126', '07859', '08219', '08405', '04908', '08215']\n"
     ]
    },
    {
     "name": "stderr",
     "output_type": "stream",
     "text": [
      "100%|██████████████████████████████████████████████████████████████████████████████████| 23/23 [07:39<00:00, 19.98s/it]\n"
     ]
    }
   ],
   "source": [
    "def split_ecgs_from_mitbih_dataset_and_save_as_npy(dataset_path, filetype, no_R_peaks_per_split=32, completed_samples=[]):\n",
    "    \n",
    "    sample_names = set([file.split(filetype,2)[0] for file in os.listdir(dataset_path) if file.endswith(filetype)])\n",
    "    sample_names = [sample_name for sample_name in sample_names if sample_name not in completed_samples]\n",
    "    print(f\"files to be split: {sample_names}\")\n",
    "    \n",
    "    try:\n",
    "        \n",
    "        for sample_name in tqdm(sample_names):\n",
    "            \n",
    "            path_to_sample = os.path.join(dataset_path, sample_name)\n",
    "            record = wfdb.rdrecord(path_to_sample)\n",
    "            ann = wfdb.rdann(path_to_sample, 'atr')\n",
    "            entire_ecg_signal = record.p_signal.T[0]\n",
    "            \n",
    "            try:\n",
    "                split_ecg, split_indices_of_ecg = split_ecgs_after_given_number_of_R_peaks(entire_ecg_signal, no_R_peaks_per_split, sample_name)\n",
    "                \n",
    "            except AssertionError:\n",
    "                continue\n",
    "                \n",
    "                \n",
    "            for i,ecg_section in enumerate(split_ecg):\n",
    "                \n",
    "                interval = (split_indices_of_ecg[i], split_indices_of_ecg[i+1]) \n",
    "                af_is_present = is_annotation_of_change_of_heartrate_present_in_interval(interval, ann)\n",
    "                if af_is_present: filename_ending = \"AF\"\n",
    "                else: filename_ending = \"N\"\n",
    "                new_filename_of_split_ecg = \"{}_{}_out_of_{}_{}\".format(os.path.join(\"experimental_split_ecgs\", sample_name), str(i).zfill(3), str(len(split_ecg)).zfill(3), filename_ending)\n",
    "                new_path_of_split_ecg = os.path.join(path_to_dataset, new_filename_of_split_ecg)\n",
    "                np.save(new_path_of_split_ecg, ecg_section)\n",
    "                completed_samples.append(sample_name)\n",
    "                \n",
    "    except KeyboardInterrupt:\n",
    "        \n",
    "        return completed_samples\n",
    "    \n",
    "path_to_dataset = \"2_data\\physionet_datasets\\mitbih\\\\af_dataset\"\n",
    "filetype = \".dat\"\n",
    "# completed_samples = []\n",
    "completed_samples = split_ecgs_from_mitbih_dataset_and_save_as_npy(path_to_dataset, filetype, 32, completed_samples)"
   ]
  },
  {
   "cell_type": "code",
   "execution_count": null,
   "id": "af38b475-76cc-4607-a073-010fb4578898",
   "metadata": {},
   "outputs": [],
   "source": [
    "# for i,ecg_section in enumerate(tqdm(split_ecg)):\n",
    "    \n",
    "#     new_filename_of_split_ecg = \"AF_{}_{}_out_of_{}\".format(os.path.join(\"split_ecgs\", sample_of_interest), str(i).zfill(3), str(len(split_ecg)).zfill(3))\n",
    "#     new_path_of_split_ecg = os.path.join(path_to_dataset, new_filename_of_split_ecg)\n",
    "    \n",
    "#     np.save(new_path_of_split_ecg, ecg_section)"
   ]
  },
  {
   "cell_type": "code",
   "execution_count": null,
   "id": "104e08ab-d7e4-4309-9a97-c6fae57a95e9",
   "metadata": {},
   "outputs": [],
   "source": [
    "# arr = np.load(f\"2_data\\\\physionet_datasets\\\\mitbih\\\\mit-bih-arrhythmia-database-1.0.0\\\\split_ecgs\\\\{sample_of_interest}_000_out_of_0{len(split_ecg)}.npy\")"
   ]
  },
  {
   "cell_type": "code",
   "execution_count": null,
   "id": "1b1eb141-9846-4e7a-a1f7-ca8fb3d652a1",
   "metadata": {},
   "outputs": [],
   "source": [
    "# arr.shape"
   ]
  },
  {
   "cell_type": "code",
   "execution_count": null,
   "id": "04ba350b-6a34-4876-b5db-60f345c4edf6",
   "metadata": {},
   "outputs": [],
   "source": []
  }
 ],
 "metadata": {
  "kernelspec": {
   "display_name": "Python 3 (ipykernel)",
   "language": "python",
   "name": "python3"
  },
  "language_info": {
   "codemirror_mode": {
    "name": "ipython",
    "version": 3
   },
   "file_extension": ".py",
   "mimetype": "text/x-python",
   "name": "python",
   "nbconvert_exporter": "python",
   "pygments_lexer": "ipython3",
   "version": "3.7.11"
  }
 },
 "nbformat": 4,
 "nbformat_minor": 5
}

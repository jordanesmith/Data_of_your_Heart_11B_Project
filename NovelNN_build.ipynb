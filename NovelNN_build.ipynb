{
 "cells": [
  {
   "cell_type": "code",
   "execution_count": 64,
   "id": "278b9306-5e28-4512-a5fd-c328a3640e12",
   "metadata": {
    "tags": []
   },
   "outputs": [],
   "source": [
    "import tensorflow as tf\n",
    "import numpy as np\n",
    "import matplotlib.pyplot as plt\n",
    "from tensorflow.keras.utils import plot_model\n",
    "import os\n",
    "import wfdb\n",
    "from tqdm import tqdm"
   ]
  },
  {
   "cell_type": "markdown",
   "id": "671f7ee7-692c-4510-980d-50ed837530c5",
   "metadata": {},
   "source": [
    "## Initialisation"
   ]
  },
  {
   "cell_type": "code",
   "execution_count": 65,
   "id": "720cf65c-b5e0-4c43-b5d0-a054bf2a471b",
   "metadata": {},
   "outputs": [],
   "source": [
    "min_heartrate_expected = 30 # TODO potentially change this\n",
    "sample_frequency = 500\n",
    "min_RR_interval_length = 60/min_heartrate_expected\n",
    "max_sample_length = sample_frequency * 5 * min_RR_interval_length \n",
    "no_classes = 3\n",
    "\n",
    "max_sample_length = 18286"
   ]
  },
  {
   "cell_type": "markdown",
   "id": "52b45ede-3318-4b0e-97d7-b771cacf8869",
   "metadata": {},
   "source": [
    "## Convolutional Block"
   ]
  },
  {
   "cell_type": "code",
   "execution_count": 66,
   "id": "eb081aa2-b65f-4962-931a-53d2a152a536",
   "metadata": {},
   "outputs": [],
   "source": [
    "def convolutional_block(x, filter, rate, pool=False):\n",
    "    \n",
    "    # copy tensor to variable called x_skip\n",
    "    x_skip = x\n",
    "    if pool: x_skip = tf.keras.layers.MaxPool1D()(x_skip)\n",
    "    \n",
    "    x = tf.keras.layers.BatchNormalization()(x) #TODO check axis here\n",
    "    x = tf.keras.layers.Activation('relu')(x)\n",
    "    x = tf.keras.layers.Dropout(rate)(x)\n",
    "    x = tf.keras.layers.Conv1D(filter, 15, padding='same', strides=(1))(x) # TODO change hyperparameters here\n",
    "    if pool: x = tf.keras.layers.AveragePooling1D()(x)\n",
    "    \n",
    "    # add residue TODO potentially do this better with connections between multiple layers \n",
    "    x = tf.keras.layers.Add()([x, x_skip])     \n",
    "    \n",
    "    return x"
   ]
  },
  {
   "cell_type": "markdown",
   "id": "8992bb44-5cfb-422f-a5a5-1ed8002b8064",
   "metadata": {},
   "source": [
    "## Total model build"
   ]
  },
  {
   "cell_type": "code",
   "execution_count": 67,
   "id": "da783680-20cd-4fd3-bb3c-d2baacedffcc",
   "metadata": {},
   "outputs": [],
   "source": [
    "def NNN(shape = (max_sample_length, 1), classes = 3):\n",
    "    \n",
    "    # Setup Input Layer\n",
    "    x_input = tf.keras.layers.Input(shape)\n",
    "    # x = tf.keras.layers.ZeroPadding1D()(x_input) # TODO check if this padding is neccessary\n",
    "    x = x_input\n",
    "    \n",
    "    # Define initial filter size\n",
    "    filter_size = 15\n",
    "    dropout_rate = 0.01\n",
    "    \n",
    "    # Build 16 convolutional blocks\n",
    "    for i in range(16):\n",
    "        # The filter size will go on increasing by a factor of 2\n",
    "        filter_size = 1\n",
    "        x = convolutional_block(x, filter_size, dropout_rate, pool = (i%3 == 0)) # only pool one in every 3 layers\n",
    "    \n",
    "    # End Dense Network\n",
    "    n_dense_parameters = 32\n",
    "    x = tf.keras.layers.Flatten()(x) # TODO check if this is neccessary\n",
    "    x = tf.keras.layers.Dense(n_dense_parameters, activation='relu')(x) # optimise over this n_dense_parameters variable\n",
    "    x = tf.keras.layers.Dense(classes, activation='softmax')(x) \n",
    "    model = tf.keras.models.Model(inputs=x_input, outputs=x, name=\"NNNet\")\n",
    "    return model"
   ]
  },
  {
   "cell_type": "code",
   "execution_count": 68,
   "id": "79c9c0fd-e089-4639-bc0e-841df3953fd5",
   "metadata": {},
   "outputs": [],
   "source": [
    "model = NNN()"
   ]
  },
  {
   "cell_type": "code",
   "execution_count": 69,
   "id": "df8a8eb1-d5b2-4c2b-9fc9-4d1175e27a13",
   "metadata": {
    "tags": []
   },
   "outputs": [],
   "source": [
    "# plot_model(model, to_file='model_plot.png', show_shapes=True, show_layer_names=True)"
   ]
  },
  {
   "cell_type": "markdown",
   "id": "19d466fc-2f62-4177-8772-cc8b83f8cc91",
   "metadata": {},
   "source": [
    "### Prepare the data for training"
   ]
  },
  {
   "cell_type": "code",
   "execution_count": 70,
   "id": "f72837b1-a3fe-44b5-b244-2be8fe42440e",
   "metadata": {},
   "outputs": [],
   "source": [
    "from utils.metadata import find_maximum_time_length_of_sample_in_dataset\n",
    "import pandas as pd"
   ]
  },
  {
   "cell_type": "code",
   "execution_count": 71,
   "id": "717e548a-c561-4140-bdcc-b05c471b9731",
   "metadata": {},
   "outputs": [],
   "source": [
    "dataset_path = \"2_data\\\\physionet_datasets\\\\training2017\"\n",
    "\n",
    "file_list = [file_ for file_ in os.listdir(dataset_path) if file_.endswith('.mat')]\n",
    "\n",
    "# frequence_of_samples = wfdb.rdrecord(os.path.join(dataset_path, file_list[0].split('.mat',2)[0]), channels=[0]).fs\n",
    "# maximum_length_of_samples = int(find_maximum_time_length_of_sample_in_dataset(dataset_path) * frequence_of_samples)\n",
    "# maximum_length_of_samples"
   ]
  },
  {
   "cell_type": "code",
   "execution_count": 72,
   "id": "3b8dee85-5cae-4a8e-8535-4edab165611d",
   "metadata": {},
   "outputs": [],
   "source": [
    "%store -r maximum_length_of_samples"
   ]
  },
  {
   "cell_type": "code",
   "execution_count": 73,
   "id": "c8f9ef5a-8ce9-40ec-bc9a-5dd2d97500e5",
   "metadata": {},
   "outputs": [],
   "source": [
    "# data = np.zeros((len(file_list), int(maximum_length_of_samples)))\n",
    "# for i, file in tqdm(enumerate(file_list)):\n",
    "#     x = wfdb.rdrecord(os.path.join(dataset_path,file.split('.mat',2)[0]), channels=[0]).p_signal\n",
    "#     data[i][:x.shape[0]] = np.squeeze(x) \n",
    "# np.save(f\"{dataset_path}\\\\2017\\\\entire_dataset\", np.array(data))"
   ]
  },
  {
   "cell_type": "code",
   "execution_count": 74,
   "id": "9e4c3b5e-99c8-4035-9ba0-38971883f1d3",
   "metadata": {},
   "outputs": [
    {
     "data": {
      "text/plain": [
       "((8528, 18286), (8528, 2))"
      ]
     },
     "execution_count": 74,
     "metadata": {},
     "output_type": "execute_result"
    }
   ],
   "source": [
    "ecg_data = np.load(f\"{dataset_path}\\\\2017\\\\entire_dataset.npy\", allow_pickle=True)\n",
    "label_file = os.path.join(dataset_path, \"REFERENCE.csv\")\n",
    "labels = pd.read_csv(label_file, header = None, names = ['name', 'label']).to_numpy()\n",
    "ecg_data.shape, labels.shape"
   ]
  },
  {
   "cell_type": "markdown",
   "id": "9fa36da5-4207-44da-9d47-9d8697a3165f",
   "metadata": {},
   "source": [
    "### Remove noisy samples"
   ]
  },
  {
   "cell_type": "code",
   "execution_count": 75,
   "id": "3de9debd-544f-444d-9a86-3171b160ee3d",
   "metadata": {},
   "outputs": [
    {
     "data": {
      "text/plain": [
       "8244"
      ]
     },
     "execution_count": 75,
     "metadata": {},
     "output_type": "execute_result"
    }
   ],
   "source": [
    "indices_no_noise = [i for i,label in enumerate(labels[:,1]) if label != '~']\n",
    "ecg_data_no_noise = ecg_data[indices_no_noise]\n",
    "labels_no_noise = labels[indices_no_noise]\n",
    "len(indices_no_noise)"
   ]
  },
  {
   "cell_type": "markdown",
   "id": "f4154919-f572-4b4b-9ab8-aef73a57b35f",
   "metadata": {},
   "source": [
    "### Encode the labels"
   ]
  },
  {
   "cell_type": "code",
   "execution_count": 76,
   "id": "2b0169b5-1d98-403e-b5c4-00d8cd0bbe88",
   "metadata": {
    "tags": []
   },
   "outputs": [
    {
     "name": "stderr",
     "output_type": "stream",
     "text": [
      "8244it [00:00, 1177318.43it/s]\n"
     ]
    },
    {
     "data": {
      "text/plain": [
       "array([[1., 0., 0.],\n",
       "       [1., 0., 0.],\n",
       "       [1., 0., 0.],\n",
       "       ...,\n",
       "       [1., 0., 0.],\n",
       "       [1., 0., 0.],\n",
       "       [1., 0., 0.]], dtype=float32)"
      ]
     },
     "execution_count": 76,
     "metadata": {},
     "output_type": "execute_result"
    }
   ],
   "source": [
    "encoded_labels = np.zeros((len(indices_no_noise)), dtype=object)\n",
    "\n",
    "def generate_encoded_label(label):\n",
    "    if 'N' == label: return 0\n",
    "    elif 'A' == label: return 1\n",
    "    elif 'O' == label: return 2\n",
    "    else: raise ValueError('Label given does not match any known label')\n",
    "\n",
    "    \n",
    "for i,label in tqdm(enumerate(labels_no_noise[:,1])):\n",
    "    encoded_labels[i] = generate_encoded_label(label)\n",
    "        \n",
    "from keras.utils import to_categorical\n",
    "categorical_labels = to_categorical(encoded_labels, num_classes=3)\n",
    "categorical_labels"
   ]
  },
  {
   "cell_type": "markdown",
   "id": "6c1b33a7-75c2-4221-806f-5c36e01a8811",
   "metadata": {},
   "source": [
    "### Compile and Train the model"
   ]
  },
  {
   "cell_type": "code",
   "execution_count": 77,
   "id": "7a7407b7-4b96-4f51-91e6-c18fcf0bcbbc",
   "metadata": {},
   "outputs": [],
   "source": [
    "model.compile(optimizer='adam', loss='categorical_crossentropy') # TODO experiment with loss and optimizers"
   ]
  },
  {
   "cell_type": "code",
   "execution_count": 78,
   "id": "8947f8fe-3a36-45a6-bffe-f2760408ca5a",
   "metadata": {},
   "outputs": [],
   "source": [
    "train_proportion = 0.8\n",
    "train_indice = int(0.8*ecg_data_no_noise.shape[0])\n",
    "x_train = np.expand_dims(ecg_data_no_noise[:train_indice],2)\n",
    "y_train = categorical_labels[:train_indice]\n",
    "x_test = np.expand_dims(ecg_data_no_noise[train_indice:],2)\n",
    "y_test = categorical_labels[train_indice:]"
   ]
  },
  {
   "cell_type": "code",
   "execution_count": null,
   "id": "54380d21-2599-477d-acd4-b4495e4dbae7",
   "metadata": {},
   "outputs": [],
   "source": []
  },
  {
   "cell_type": "code",
   "execution_count": 113,
   "id": "c2f370f5-f89b-4894-a471-e284e7c9fd6a",
   "metadata": {
    "tags": []
   },
   "outputs": [
    {
     "name": "stdout",
     "output_type": "stream",
     "text": [
      "Train on 6595 samples, validate on 1649 samples\n",
      "Epoch 1/100\n",
      "6595/6595 [==============================] - 87s 13ms/sample - loss: 0.7009 - val_loss: 1.0310\n",
      "Epoch 2/100\n",
      "6595/6595 [==============================] - 76s 11ms/sample - loss: 0.6797 - val_loss: 1.0397\n",
      "Epoch 3/100\n",
      "6595/6595 [==============================] - 71s 11ms/sample - loss: 0.6537 - val_loss: 1.1062\n",
      "Epoch 4/100\n",
      "6595/6595 [==============================] - 68s 10ms/sample - loss: 0.6259 - val_loss: 1.1049\n",
      "Epoch 5/100\n",
      "6595/6595 [==============================] - 65s 10ms/sample - loss: 0.6035 - val_loss: 1.1813\n",
      "Epoch 6/100\n",
      "6595/6595 [==============================] - 66s 10ms/sample - loss: 0.5955 - val_loss: 1.2411\n",
      "Epoch 7/100\n",
      "6595/6595 [==============================] - 66s 10ms/sample - loss: 0.5727 - val_loss: 1.1891\n",
      "Epoch 8/100\n",
      "6595/6595 [==============================] - 74s 11ms/sample - loss: 0.5549 - val_loss: 1.2433\n",
      "Epoch 9/100\n",
      "6595/6595 [==============================] - 70s 11ms/sample - loss: 0.5408 - val_loss: 1.3337\n",
      "Epoch 10/100\n",
      "6595/6595 [==============================] - 64s 10ms/sample - loss: 0.5292 - val_loss: 1.3146\n",
      "Epoch 11/100\n",
      "6595/6595 [==============================] - 65s 10ms/sample - loss: 0.5108 - val_loss: 1.3457\n",
      "Epoch 12/100\n",
      "6595/6595 [==============================] - 64s 10ms/sample - loss: 0.5024 - val_loss: 1.3918\n",
      "Epoch 13/100\n",
      "6595/6595 [==============================] - 69s 10ms/sample - loss: 0.4962 - val_loss: 1.4302\n",
      "Epoch 14/100\n",
      "6595/6595 [==============================] - 69s 10ms/sample - loss: 0.4744 - val_loss: 1.4809\n",
      "Epoch 15/100\n",
      "6595/6595 [==============================] - 66s 10ms/sample - loss: 0.4590 - val_loss: 1.5143\n",
      "Epoch 16/100\n",
      "6595/6595 [==============================] - 67s 10ms/sample - loss: 0.4577 - val_loss: 1.5901\n",
      "Epoch 17/100\n",
      "6595/6595 [==============================] - 64s 10ms/sample - loss: 0.4465 - val_loss: 1.6951\n",
      "Epoch 18/100\n",
      "6595/6595 [==============================] - 64s 10ms/sample - loss: 0.4258 - val_loss: 1.6316\n",
      "Epoch 19/100\n",
      "6595/6595 [==============================] - 65s 10ms/sample - loss: 0.4241 - val_loss: 1.6286\n",
      "Epoch 20/100\n",
      "6595/6595 [==============================] - 67s 10ms/sample - loss: 0.4185 - val_loss: 1.6488\n",
      "Epoch 21/100\n",
      "6595/6595 [==============================] - 66s 10ms/sample - loss: 0.4229 - val_loss: 1.6627\n",
      "Epoch 22/100\n",
      "6595/6595 [==============================] - 67s 10ms/sample - loss: 0.4020 - val_loss: 1.7710\n",
      "Epoch 23/100\n",
      "6595/6595 [==============================] - 66s 10ms/sample - loss: 0.4040 - val_loss: 1.7986\n",
      "Epoch 24/100\n",
      "6595/6595 [==============================] - 68s 10ms/sample - loss: 0.3880 - val_loss: 1.8402\n",
      "Epoch 25/100\n",
      "6595/6595 [==============================] - 65s 10ms/sample - loss: 0.3849 - val_loss: 1.8768\n",
      "Epoch 26/100\n",
      "6595/6595 [==============================] - 68s 10ms/sample - loss: 0.3800 - val_loss: 1.9306\n",
      "Epoch 27/100\n",
      "6595/6595 [==============================] - 67s 10ms/sample - loss: 0.3617 - val_loss: 1.9467\n",
      "Epoch 28/100\n",
      "6595/6595 [==============================] - 68s 10ms/sample - loss: 0.3611 - val_loss: 1.9872\n",
      "Epoch 29/100\n",
      "6595/6595 [==============================] - 68s 10ms/sample - loss: 0.3588 - val_loss: 2.0671\n",
      "Epoch 30/100\n",
      "6595/6595 [==============================] - 66s 10ms/sample - loss: 0.3497 - val_loss: 2.0810\n",
      "Epoch 31/100\n",
      "6595/6595 [==============================] - 66s 10ms/sample - loss: 0.3425 - val_loss: 2.0325\n",
      "Epoch 32/100\n",
      "6595/6595 [==============================] - 65s 10ms/sample - loss: 0.3431 - val_loss: 2.0479\n",
      "Epoch 33/100\n",
      "6595/6595 [==============================] - 65s 10ms/sample - loss: 0.3537 - val_loss: 2.1658\n",
      "Epoch 34/100\n",
      "6595/6595 [==============================] - 66s 10ms/sample - loss: 0.3749 - val_loss: 2.0194\n",
      "Epoch 35/100\n",
      "6595/6595 [==============================] - 67s 10ms/sample - loss: 0.3461 - val_loss: 2.2267\n",
      "Epoch 36/100\n",
      "6595/6595 [==============================] - 66s 10ms/sample - loss: 0.3237 - val_loss: 2.2403\n",
      "Epoch 37/100\n",
      "6595/6595 [==============================] - 65s 10ms/sample - loss: 0.3133 - val_loss: 2.2699\n",
      "Epoch 38/100\n",
      "6595/6595 [==============================] - 65s 10ms/sample - loss: 0.3329 - val_loss: 2.3580\n",
      "Epoch 39/100\n",
      "6595/6595 [==============================] - 67s 10ms/sample - loss: 0.3089 - val_loss: 2.3962\n",
      "Epoch 40/100\n",
      "6595/6595 [==============================] - 66s 10ms/sample - loss: 0.3138 - val_loss: 2.3429\n",
      "Epoch 41/100\n",
      "6595/6595 [==============================] - 66s 10ms/sample - loss: 0.3066 - val_loss: 2.3904\n",
      "Epoch 42/100\n",
      "6595/6595 [==============================] - 66s 10ms/sample - loss: 0.2990 - val_loss: 2.5236\n",
      "Epoch 43/100\n",
      "6595/6595 [==============================] - 65s 10ms/sample - loss: 0.2999 - val_loss: 2.4145\n",
      "Epoch 44/100\n",
      "6595/6595 [==============================] - 65s 10ms/sample - loss: 0.2950 - val_loss: 2.4851\n",
      "Epoch 45/100\n",
      "6595/6595 [==============================] - 64s 10ms/sample - loss: 0.2966 - val_loss: 2.5059\n",
      "Epoch 46/100\n",
      "6595/6595 [==============================] - 64s 10ms/sample - loss: 0.2907 - val_loss: 2.5224\n",
      "Epoch 47/100\n",
      "6595/6595 [==============================] - 64s 10ms/sample - loss: 0.2895 - val_loss: 2.5593\n",
      "Epoch 48/100\n",
      "6595/6595 [==============================] - 65s 10ms/sample - loss: 0.2842 - val_loss: 2.6493\n",
      "Epoch 49/100\n",
      "6595/6595 [==============================] - 65s 10ms/sample - loss: 0.2928 - val_loss: 2.5482\n",
      "Epoch 50/100\n",
      "6595/6595 [==============================] - 65s 10ms/sample - loss: 0.2717 - val_loss: 2.6769\n",
      "Epoch 51/100\n",
      "6595/6595 [==============================] - 68s 10ms/sample - loss: 0.2714 - val_loss: 2.6553\n",
      "Epoch 52/100\n",
      "6595/6595 [==============================] - 65s 10ms/sample - loss: 0.2757 - val_loss: 2.7103\n",
      "Epoch 53/100\n",
      "6595/6595 [==============================] - 65s 10ms/sample - loss: 0.2709 - val_loss: 2.8216\n",
      "Epoch 54/100\n",
      "6595/6595 [==============================] - 66s 10ms/sample - loss: 0.2890 - val_loss: 2.7194\n",
      "Epoch 55/100\n",
      "6595/6595 [==============================] - 67s 10ms/sample - loss: 0.2676 - val_loss: 2.8101\n",
      "Epoch 56/100\n",
      "6595/6595 [==============================] - 68s 10ms/sample - loss: 0.2663 - val_loss: 2.7551\n",
      "Epoch 57/100\n",
      "6595/6595 [==============================] - 68s 10ms/sample - loss: 0.2552 - val_loss: 2.8991\n",
      "Epoch 58/100\n",
      "6595/6595 [==============================] - 66s 10ms/sample - loss: 0.2652 - val_loss: 2.8541\n",
      "Epoch 59/100\n",
      "6595/6595 [==============================] - 66s 10ms/sample - loss: 0.2622 - val_loss: 2.9661\n",
      "Epoch 60/100\n",
      "6595/6595 [==============================] - 65s 10ms/sample - loss: 0.2607 - val_loss: 2.9368\n",
      "Epoch 61/100\n",
      "6595/6595 [==============================] - 67s 10ms/sample - loss: 0.2528 - val_loss: 3.0661\n",
      "Epoch 62/100\n",
      "6595/6595 [==============================] - 66s 10ms/sample - loss: 0.2524 - val_loss: 3.0222\n",
      "Epoch 63/100\n",
      "6595/6595 [==============================] - 66s 10ms/sample - loss: 0.2502 - val_loss: 2.9688\n",
      "Epoch 64/100\n",
      "6595/6595 [==============================] - 65s 10ms/sample - loss: 0.2568 - val_loss: 3.0666\n",
      "Epoch 65/100\n",
      "6595/6595 [==============================] - 64s 10ms/sample - loss: 0.2468 - val_loss: 2.9389\n",
      "Epoch 66/100\n",
      "6595/6595 [==============================] - 66s 10ms/sample - loss: 0.2397 - val_loss: 2.9831\n",
      "Epoch 67/100\n",
      "6595/6595 [==============================] - 68s 10ms/sample - loss: 0.2505 - val_loss: 2.9619\n",
      "Epoch 68/100\n",
      "6595/6595 [==============================] - 66s 10ms/sample - loss: 0.2427 - val_loss: 3.1587\n",
      "Epoch 69/100\n",
      "6595/6595 [==============================] - 64s 10ms/sample - loss: 0.2415 - val_loss: 3.0166\n",
      "Epoch 70/100\n",
      "6595/6595 [==============================] - 65s 10ms/sample - loss: 0.2366 - val_loss: 2.9759\n",
      "Epoch 71/100\n",
      "6595/6595 [==============================] - 66s 10ms/sample - loss: 0.2416 - val_loss: 3.1660\n",
      "Epoch 72/100\n",
      "6595/6595 [==============================] - 68s 10ms/sample - loss: 0.2460 - val_loss: 3.2051\n",
      "Epoch 73/100\n",
      "6595/6595 [==============================] - 67s 10ms/sample - loss: 0.2351 - val_loss: 3.1627\n",
      "Epoch 74/100\n",
      "6595/6595 [==============================] - 67s 10ms/sample - loss: 0.2233 - val_loss: 3.2606\n",
      "Epoch 75/100\n",
      "6595/6595 [==============================] - 69s 10ms/sample - loss: 0.2331 - val_loss: 3.2396\n",
      "Epoch 76/100\n",
      "6595/6595 [==============================] - 67s 10ms/sample - loss: 0.2343 - val_loss: 3.3049\n",
      "Epoch 77/100\n",
      "6595/6595 [==============================] - 66s 10ms/sample - loss: 0.2174 - val_loss: 3.2563\n",
      "Epoch 78/100\n",
      "6595/6595 [==============================] - 65s 10ms/sample - loss: 0.2296 - val_loss: 3.2388\n",
      "Epoch 79/100\n",
      "6595/6595 [==============================] - 65s 10ms/sample - loss: 0.2232 - val_loss: 3.3291\n",
      "Epoch 80/100\n",
      "6595/6595 [==============================] - 68s 10ms/sample - loss: 0.2378 - val_loss: 3.1475\n",
      "Epoch 81/100\n",
      "6595/6595 [==============================] - 67s 10ms/sample - loss: 0.2344 - val_loss: 3.5326\n",
      "Epoch 82/100\n",
      "6595/6595 [==============================] - 66s 10ms/sample - loss: 0.2148 - val_loss: 3.4361\n",
      "Epoch 83/100\n",
      "6595/6595 [==============================] - 68s 10ms/sample - loss: 0.2175 - val_loss: 3.4330\n",
      "Epoch 84/100\n",
      "6595/6595 [==============================] - 67s 10ms/sample - loss: 0.2203 - val_loss: 3.4034\n",
      "Epoch 85/100\n",
      "6595/6595 [==============================] - 65s 10ms/sample - loss: 0.2143 - val_loss: 3.6217\n",
      "Epoch 86/100\n",
      "6595/6595 [==============================] - 67s 10ms/sample - loss: 0.2123 - val_loss: 3.5515\n",
      "Epoch 87/100\n",
      "6595/6595 [==============================] - 76s 11ms/sample - loss: 0.2084 - val_loss: 3.5019\n",
      "Epoch 88/100\n",
      "6595/6595 [==============================] - 76s 11ms/sample - loss: 0.2191 - val_loss: 3.5731\n",
      "Epoch 89/100\n",
      "6595/6595 [==============================] - 66s 10ms/sample - loss: 0.2167 - val_loss: 3.6970\n",
      "Epoch 90/100\n",
      "6595/6595 [==============================] - 68s 10ms/sample - loss: 0.2179 - val_loss: 3.7281\n",
      "Epoch 91/100\n",
      "6595/6595 [==============================] - 67s 10ms/sample - loss: 0.2219 - val_loss: 3.5640\n",
      "Epoch 92/100\n",
      "6595/6595 [==============================] - 69s 10ms/sample - loss: 0.2183 - val_loss: 3.5858\n",
      "Epoch 93/100\n",
      "6595/6595 [==============================] - 71s 11ms/sample - loss: 0.1988 - val_loss: 3.7290\n",
      "Epoch 94/100\n",
      "6595/6595 [==============================] - 71s 11ms/sample - loss: 0.2003 - val_loss: 3.6515\n",
      "Epoch 95/100\n",
      "6595/6595 [==============================] - 72s 11ms/sample - loss: 0.2071 - val_loss: 3.6353\n",
      "Epoch 96/100\n",
      "6595/6595 [==============================] - 116s 18ms/sample - loss: 0.2106 - val_loss: 3.6610\n",
      "Epoch 97/100\n",
      "6595/6595 [==============================] - 129s 20ms/sample - loss: 0.1948 - val_loss: 3.7696\n",
      "Epoch 98/100\n",
      "6595/6595 [==============================] - 127s 19ms/sample - loss: 0.1907 - val_loss: 3.7496\n",
      "Epoch 99/100\n",
      "6595/6595 [==============================] - 127s 19ms/sample - loss: 0.2227 - val_loss: 3.6857\n",
      "Epoch 100/100\n",
      "6595/6595 [==============================] - 119s 18ms/sample - loss: 0.1973 - val_loss: 3.7889\n"
     ]
    }
   ],
   "source": [
    "# batch_end_loss = list()\n",
    "# batch_size = 128\n",
    "\n",
    "# class SaveBatchLoss(tf.keras.callbacks.Callback):\n",
    "#     def on_train_batch_end(self, batch, logs=None):\n",
    "#         batch_end_loss.append({\"batch\": batch, \"loss\": logs[\"loss\"], \"val_loss\": self.model.evaluate(x_test, y_test)})\n",
    "        \n",
    "# batch_end_val_loss = list()        \n",
    "# class SaveValLoss(tf.keras.callbacks.Callback):\n",
    "#     def on_train_batch_end(self, batch, logs=None):\n",
    "        # batch_end_val_loss.append(self.model.evaluate())\n",
    "        \n",
    "# my_callbacks = [SaveBatchLoss()]#, SaveValLoss()]\n",
    "\n",
    "history = model.fit(x_train, y_train, batch_size=32, epochs=100, validation_data=(x_test, y_test))#, callbacks=my_callbacks)"
   ]
  },
  {
   "cell_type": "markdown",
   "id": "3edcc5f4-9d14-4790-b36d-6e531f48f4a9",
   "metadata": {},
   "source": [
    "Is it better to build binary classification model between 'N' and 'AF or O' and then 'AF' or 'O'?"
   ]
  },
  {
   "cell_type": "code",
   "execution_count": 104,
   "id": "f895cb75-ae73-4349-8434-ff16f6d5c61f",
   "metadata": {},
   "outputs": [
    {
     "name": "stdout",
     "output_type": "stream",
     "text": [
      "Stored 'batch_end_loss' (list)\n"
     ]
    }
   ],
   "source": [
    "%store -r batch_end_loss"
   ]
  },
  {
   "cell_type": "code",
   "execution_count": 114,
   "id": "a136faed-7db9-4db9-ab20-39304b62a232",
   "metadata": {},
   "outputs": [
    {
     "data": {
      "text/plain": [
       "<matplotlib.legend.Legend at 0x20a87499d48>"
      ]
     },
     "execution_count": 114,
     "metadata": {},
     "output_type": "execute_result"
    },
    {
     "data": {
      "image/png": "[encoded data removed]",
      "text/plain": [
       "<Figure size 432x288 with 1 Axes>"
      ]
     },
     "metadata": {
      "needs_background": "light"
     },
     "output_type": "display_data"
    }
   ],
   "source": [
    "plt.plot([val['loss'] for val in batch_end_loss], label=\"loss\")\n",
    "plt.plot([val['val_loss'] for val in batch_end_loss], label=\"val_loss\")\n",
    "plt.xlabel(\"batch\")\n",
    "plt.title(f\"batch_size: {batch_size}\")\n",
    "plt.legend()"
   ]
  },
  {
   "cell_type": "code",
   "execution_count": 115,
   "id": "d468118f-20e8-4c37-a330-b79a11abf5ce",
   "metadata": {},
   "outputs": [
    {
     "data": {
      "text/plain": [
       "<matplotlib.legend.Legend at 0x20a875689c8>"
      ]
     },
     "execution_count": 115,
     "metadata": {},
     "output_type": "execute_result"
    },
    {
     "data": {
      "image/png": "[encoded data removed]",
      "text/plain": [
       "<Figure size 432x288 with 1 Axes>"
      ]
     },
     "metadata": {
      "needs_background": "light"
     },
     "output_type": "display_data"
    }
   ],
   "source": [
    "plt.plot(history.history['loss'], label=\"loss\")\n",
    "plt.plot(history.history['val_loss'], label=\"val_loss\")\n",
    "plt.xlabel(\"epoch\")\n",
    "# plt.title(f\"batch_size: {batch_size}\")\n",
    "plt.legend()"
   ]
  },
  {
   "cell_type": "code",
   "execution_count": null,
   "id": "3c619b99-090c-4f75-8e2a-ffba68c8694f",
   "metadata": {},
   "outputs": [],
   "source": []
  },
  {
   "cell_type": "code",
   "execution_count": null,
   "id": "b0f05432-3519-4a7f-ab9b-c6bb1fc1192a",
   "metadata": {},
   "outputs": [],
   "source": []
  }
 ],
 "metadata": {
  "kernelspec": {
   "display_name": "Python 3 (ipykernel)",
   "language": "python",
   "name": "python3"
  },
  "language_info": {
   "codemirror_mode": {
    "name": "ipython",
    "version": 3
   },
   "file_extension": ".py",
   "mimetype": "text/x-python",
   "name": "python",
   "nbconvert_exporter": "python",
   "pygments_lexer": "ipython3",
   "version": "3.7.11"
  }
 },
 "nbformat": 4,
 "nbformat_minor": 5
}
